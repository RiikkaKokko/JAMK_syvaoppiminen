{
 "cells": [
  {
   "cell_type": "markdown",
   "metadata": {},
   "source": [
    "# Tehtävä 0.\n",
    "## Aihe: Ympäristön pystytys\n",
    "\n",
    "Luo ohjelmointiympäristö asentamalla syväoppimiseen tarvittavat kirjastot. Seuraa materiaaleista otsikon \"Ympäristön pystytys\" - alla olevat ohjeet.\n",
    "\n",
    "Kun olet asentanut kirjastot, aja alla oleva solu. Jos ei tule virheitä, niin ympäristösi on asennettu oikein."
   ]
  },
  {
   "cell_type": "code",
   "execution_count": 287,
   "metadata": {
    "tags": [
     "answers_1_0"
    ]
   },
   "outputs": [
    {
     "name": "stdout",
     "output_type": "stream",
     "text": [
      "2.5.0\n"
     ]
    }
   ],
   "source": [
    "import numpy as np\n",
    "import pandas as pd\n",
    "import sklearn\n",
    "import tensorflow as tf\n",
    "import matplotlib.pyplot as plt\n",
    "from sklearn.preprocessing import MinMaxScaler\n",
    "\n",
    "print(tf.__version__) # Pitäisi tulostaa tensorflow 2.0 tai uudempi versio"
   ]
  },
  {
   "cell_type": "markdown",
   "metadata": {},
   "source": [
    "Jos olet asentanut Tensorflowin GPU eli näytönohjainversion, aja alla oleva solu. Solun pitäisi tulostaa listan laskentaan saatavilla olevista näytönohjaimista. Jos näytönohjaimia ei löydy, solu tulostaa tyhjän listan. \n",
    "\n",
    "Jos et käytä Tensorflowin GPU versiota, voit jättää solun ajamatta tai kommentoida funktion pois."
   ]
  },
  {
   "cell_type": "code",
   "execution_count": 288,
   "metadata": {
    "tags": [
     "answers_1_0"
    ]
   },
   "outputs": [
    {
     "data": {
      "text/plain": [
       "[]"
      ]
     },
     "execution_count": 288,
     "metadata": {},
     "output_type": "execute_result"
    }
   ],
   "source": [
    "tf.config.list_physical_devices('GPU')"
   ]
  },
  {
   "cell_type": "markdown",
   "metadata": {},
   "source": [
    "# Tehtävä 1\n",
    "### Aihe: Datan esikäsittely ja ohjattu oppiminen\n",
    "3,3 pistettä\n",
    "\n",
    "1. Katso diabetes - datasetin tiedot Kagglesta https://www.kaggle.com/uciml/pima-indians-diabetes-database ja lataa \"likainen\" versio datasetistä data - kansiosta *diabetes_messy.csv* tiedostosta.\n",
    "\n",
    "2. Lataa csv-tiedosto Pandas DataFrameen, suorita seuraavat datan siivoamisoperaatiot:\n",
    "    * Pudota NaN rivit.\n",
    "    * Pudota identtiset rivit.\n",
    "    * Korvaa suuresti poikkeavat arvot sarakkeen mediaanilla. (Vinkki: Visualisoi sarakkeiden arvot)\n",
    "\n",
    "3. Tutki numeraalisissa sarakkeissa nolla-arvojen määrän suhdetta kaikkiin arvoihin. Jos nolla-arvoja on 20% tai enemmän, pudota koko sarake datasetistä.\n",
    "\n",
    "4. Skaalaa datasetti käyttäen standardisointia tai minimi-maksimi skaalausta.\n",
    "\n",
    "5. Muuta datasetti valvotun oppimisen muotoon, eli erottele data ominaisuuksiin ja ennustettaviin arvoihin.\n",
    "    * Ennustettava arvo on tässä datasetissä Diabetes - sarake, ominaisuudet ovat kaikki muut sarakkeet.\n",
    "\n",
    "6. Jaa datasetti koulutus- ja testidatasettiin, niin että koulutusdatasetissä on 80% datasetistä ja testidatasetissä 20%. \n",
    "\n",
    "7. Aja \"Tehtävän vastaukset\" solu, jossa todistetaan, että DataFrame on siivottu ja valmis koneoppimisen malleille:\n",
    "    * Ei identtisiä rivejä (Funktion df.duplicated().any().sum() tulos on 0)\n",
    "    * Ei NaN rivejä (Funktion df.isna().any().sum() tulos on 0)\n",
    "    * Koulutus- ja testidatasetin jako on 80%/20%"
   ]
  },
  {
   "cell_type": "markdown",
   "metadata": {},
   "source": [
    "### CSV-tiedoston lataaminen Pandas DataFrameen"
   ]
  },
  {
   "cell_type": "code",
   "execution_count": 289,
   "metadata": {},
   "outputs": [
    {
     "data": {
      "text/plain": [
       "(810, 10)"
      ]
     },
     "execution_count": 289,
     "metadata": {},
     "output_type": "execute_result"
    }
   ],
   "source": [
    "# Tehtävän toteutus\n",
    "df = pd.read_csv('data/diabetes_messy.csv')\n",
    "df.shape"
   ]
  },
  {
   "cell_type": "code",
   "execution_count": 290,
   "metadata": {},
   "outputs": [
    {
     "data": {
      "text/html": [
       "<div>\n",
       "<style scoped>\n",
       "    .dataframe tbody tr th:only-of-type {\n",
       "        vertical-align: middle;\n",
       "    }\n",
       "\n",
       "    .dataframe tbody tr th {\n",
       "        vertical-align: top;\n",
       "    }\n",
       "\n",
       "    .dataframe thead th {\n",
       "        text-align: right;\n",
       "    }\n",
       "</style>\n",
       "<table border=\"1\" class=\"dataframe\">\n",
       "  <thead>\n",
       "    <tr style=\"text-align: right;\">\n",
       "      <th></th>\n",
       "      <th>Unnamed: 0</th>\n",
       "      <th>Pregnancies</th>\n",
       "      <th>Glucose</th>\n",
       "      <th>BloodPressure</th>\n",
       "      <th>SkinThickness</th>\n",
       "      <th>Insulin</th>\n",
       "      <th>BMI</th>\n",
       "      <th>DiabetesPedigreeFunction</th>\n",
       "      <th>Age</th>\n",
       "      <th>Outcome</th>\n",
       "    </tr>\n",
       "  </thead>\n",
       "  <tbody>\n",
       "    <tr>\n",
       "      <th>0</th>\n",
       "      <td>0</td>\n",
       "      <td>5.0</td>\n",
       "      <td>109.0</td>\n",
       "      <td>62.0</td>\n",
       "      <td>41.0</td>\n",
       "      <td>129.0</td>\n",
       "      <td>35.8</td>\n",
       "      <td>0.514</td>\n",
       "      <td>25.0</td>\n",
       "      <td>1.0</td>\n",
       "    </tr>\n",
       "    <tr>\n",
       "      <th>1</th>\n",
       "      <td>1</td>\n",
       "      <td>7.0</td>\n",
       "      <td>184.0</td>\n",
       "      <td>84.0</td>\n",
       "      <td>33.0</td>\n",
       "      <td>0.0</td>\n",
       "      <td>35.5</td>\n",
       "      <td>0.355</td>\n",
       "      <td>41.0</td>\n",
       "      <td>1.0</td>\n",
       "    </tr>\n",
       "    <tr>\n",
       "      <th>2</th>\n",
       "      <td>2</td>\n",
       "      <td>0.0</td>\n",
       "      <td>180.0</td>\n",
       "      <td>90.0</td>\n",
       "      <td>26.0</td>\n",
       "      <td>90.0</td>\n",
       "      <td>36.5</td>\n",
       "      <td>0.314</td>\n",
       "      <td>35.0</td>\n",
       "      <td>1.0</td>\n",
       "    </tr>\n",
       "    <tr>\n",
       "      <th>3</th>\n",
       "      <td>3</td>\n",
       "      <td>3.0</td>\n",
       "      <td>88.0</td>\n",
       "      <td>58.0</td>\n",
       "      <td>11.0</td>\n",
       "      <td>54.0</td>\n",
       "      <td>24.8</td>\n",
       "      <td>0.267</td>\n",
       "      <td>22.0</td>\n",
       "      <td>0.0</td>\n",
       "    </tr>\n",
       "    <tr>\n",
       "      <th>4</th>\n",
       "      <td>4</td>\n",
       "      <td>1.0</td>\n",
       "      <td>71.0</td>\n",
       "      <td>78.0</td>\n",
       "      <td>50.0</td>\n",
       "      <td>45.0</td>\n",
       "      <td>33.2</td>\n",
       "      <td>0.422</td>\n",
       "      <td>21.0</td>\n",
       "      <td>0.0</td>\n",
       "    </tr>\n",
       "    <tr>\n",
       "      <th>5</th>\n",
       "      <td>5</td>\n",
       "      <td>NaN</td>\n",
       "      <td>NaN</td>\n",
       "      <td>NaN</td>\n",
       "      <td>NaN</td>\n",
       "      <td>NaN</td>\n",
       "      <td>NaN</td>\n",
       "      <td>NaN</td>\n",
       "      <td>NaN</td>\n",
       "      <td>NaN</td>\n",
       "    </tr>\n",
       "    <tr>\n",
       "      <th>6</th>\n",
       "      <td>6</td>\n",
       "      <td>0.0</td>\n",
       "      <td>108.0</td>\n",
       "      <td>68.0</td>\n",
       "      <td>20.0</td>\n",
       "      <td>0.0</td>\n",
       "      <td>27.3</td>\n",
       "      <td>0.787</td>\n",
       "      <td>32.0</td>\n",
       "      <td>0.0</td>\n",
       "    </tr>\n",
       "    <tr>\n",
       "      <th>7</th>\n",
       "      <td>7</td>\n",
       "      <td>1.0</td>\n",
       "      <td>168.0</td>\n",
       "      <td>88.0</td>\n",
       "      <td>29.0</td>\n",
       "      <td>0.0</td>\n",
       "      <td>35.0</td>\n",
       "      <td>0.905</td>\n",
       "      <td>52.0</td>\n",
       "      <td>1.0</td>\n",
       "    </tr>\n",
       "    <tr>\n",
       "      <th>8</th>\n",
       "      <td>8</td>\n",
       "      <td>4.0</td>\n",
       "      <td>116.0</td>\n",
       "      <td>72.0</td>\n",
       "      <td>12.0</td>\n",
       "      <td>87.0</td>\n",
       "      <td>22.1</td>\n",
       "      <td>0.463</td>\n",
       "      <td>37.0</td>\n",
       "      <td>0.0</td>\n",
       "    </tr>\n",
       "    <tr>\n",
       "      <th>9</th>\n",
       "      <td>9</td>\n",
       "      <td>9.0</td>\n",
       "      <td>122.0</td>\n",
       "      <td>56.0</td>\n",
       "      <td>0.0</td>\n",
       "      <td>0.0</td>\n",
       "      <td>33.3</td>\n",
       "      <td>1.114</td>\n",
       "      <td>33.0</td>\n",
       "      <td>1.0</td>\n",
       "    </tr>\n",
       "  </tbody>\n",
       "</table>\n",
       "</div>"
      ],
      "text/plain": [
       "   Unnamed: 0  Pregnancies  Glucose  BloodPressure  SkinThickness  Insulin  \\\n",
       "0           0          5.0    109.0           62.0           41.0    129.0   \n",
       "1           1          7.0    184.0           84.0           33.0      0.0   \n",
       "2           2          0.0    180.0           90.0           26.0     90.0   \n",
       "3           3          3.0     88.0           58.0           11.0     54.0   \n",
       "4           4          1.0     71.0           78.0           50.0     45.0   \n",
       "5           5          NaN      NaN            NaN            NaN      NaN   \n",
       "6           6          0.0    108.0           68.0           20.0      0.0   \n",
       "7           7          1.0    168.0           88.0           29.0      0.0   \n",
       "8           8          4.0    116.0           72.0           12.0     87.0   \n",
       "9           9          9.0    122.0           56.0            0.0      0.0   \n",
       "\n",
       "    BMI  DiabetesPedigreeFunction   Age  Outcome  \n",
       "0  35.8                     0.514  25.0      1.0  \n",
       "1  35.5                     0.355  41.0      1.0  \n",
       "2  36.5                     0.314  35.0      1.0  \n",
       "3  24.8                     0.267  22.0      0.0  \n",
       "4  33.2                     0.422  21.0      0.0  \n",
       "5   NaN                       NaN   NaN      NaN  \n",
       "6  27.3                     0.787  32.0      0.0  \n",
       "7  35.0                     0.905  52.0      1.0  \n",
       "8  22.1                     0.463  37.0      0.0  \n",
       "9  33.3                     1.114  33.0      1.0  "
      ]
     },
     "execution_count": 290,
     "metadata": {},
     "output_type": "execute_result"
    }
   ],
   "source": [
    "df.head(10)"
   ]
  },
  {
   "cell_type": "code",
   "execution_count": 291,
   "metadata": {},
   "outputs": [
    {
     "data": {
      "text/html": [
       "<div>\n",
       "<style scoped>\n",
       "    .dataframe tbody tr th:only-of-type {\n",
       "        vertical-align: middle;\n",
       "    }\n",
       "\n",
       "    .dataframe tbody tr th {\n",
       "        vertical-align: top;\n",
       "    }\n",
       "\n",
       "    .dataframe thead th {\n",
       "        text-align: right;\n",
       "    }\n",
       "</style>\n",
       "<table border=\"1\" class=\"dataframe\">\n",
       "  <thead>\n",
       "    <tr style=\"text-align: right;\">\n",
       "      <th></th>\n",
       "      <th>Pregnancies</th>\n",
       "      <th>Glucose</th>\n",
       "      <th>BloodPressure</th>\n",
       "      <th>SkinThickness</th>\n",
       "      <th>Insulin</th>\n",
       "      <th>BMI</th>\n",
       "      <th>DiabetesPedigreeFunction</th>\n",
       "      <th>Age</th>\n",
       "      <th>Outcome</th>\n",
       "    </tr>\n",
       "  </thead>\n",
       "  <tbody>\n",
       "    <tr>\n",
       "      <th>0</th>\n",
       "      <td>5.0</td>\n",
       "      <td>109.0</td>\n",
       "      <td>62.0</td>\n",
       "      <td>41.0</td>\n",
       "      <td>129.0</td>\n",
       "      <td>35.8</td>\n",
       "      <td>0.514</td>\n",
       "      <td>25.0</td>\n",
       "      <td>1.0</td>\n",
       "    </tr>\n",
       "    <tr>\n",
       "      <th>1</th>\n",
       "      <td>7.0</td>\n",
       "      <td>184.0</td>\n",
       "      <td>84.0</td>\n",
       "      <td>33.0</td>\n",
       "      <td>0.0</td>\n",
       "      <td>35.5</td>\n",
       "      <td>0.355</td>\n",
       "      <td>41.0</td>\n",
       "      <td>1.0</td>\n",
       "    </tr>\n",
       "    <tr>\n",
       "      <th>2</th>\n",
       "      <td>0.0</td>\n",
       "      <td>180.0</td>\n",
       "      <td>90.0</td>\n",
       "      <td>26.0</td>\n",
       "      <td>90.0</td>\n",
       "      <td>36.5</td>\n",
       "      <td>0.314</td>\n",
       "      <td>35.0</td>\n",
       "      <td>1.0</td>\n",
       "    </tr>\n",
       "    <tr>\n",
       "      <th>3</th>\n",
       "      <td>3.0</td>\n",
       "      <td>88.0</td>\n",
       "      <td>58.0</td>\n",
       "      <td>11.0</td>\n",
       "      <td>54.0</td>\n",
       "      <td>24.8</td>\n",
       "      <td>0.267</td>\n",
       "      <td>22.0</td>\n",
       "      <td>0.0</td>\n",
       "    </tr>\n",
       "    <tr>\n",
       "      <th>4</th>\n",
       "      <td>1.0</td>\n",
       "      <td>71.0</td>\n",
       "      <td>78.0</td>\n",
       "      <td>50.0</td>\n",
       "      <td>45.0</td>\n",
       "      <td>33.2</td>\n",
       "      <td>0.422</td>\n",
       "      <td>21.0</td>\n",
       "      <td>0.0</td>\n",
       "    </tr>\n",
       "  </tbody>\n",
       "</table>\n",
       "</div>"
      ],
      "text/plain": [
       "   Pregnancies  Glucose  BloodPressure  SkinThickness  Insulin   BMI  \\\n",
       "0          5.0    109.0           62.0           41.0    129.0  35.8   \n",
       "1          7.0    184.0           84.0           33.0      0.0  35.5   \n",
       "2          0.0    180.0           90.0           26.0     90.0  36.5   \n",
       "3          3.0     88.0           58.0           11.0     54.0  24.8   \n",
       "4          1.0     71.0           78.0           50.0     45.0  33.2   \n",
       "\n",
       "   DiabetesPedigreeFunction   Age  Outcome  \n",
       "0                     0.514  25.0      1.0  \n",
       "1                     0.355  41.0      1.0  \n",
       "2                     0.314  35.0      1.0  \n",
       "3                     0.267  22.0      0.0  \n",
       "4                     0.422  21.0      0.0  "
      ]
     },
     "execution_count": 291,
     "metadata": {},
     "output_type": "execute_result"
    }
   ],
   "source": [
    "del df['Unnamed: 0']\n",
    "df.head()"
   ]
  },
  {
   "cell_type": "markdown",
   "metadata": {},
   "source": [
    "### Pudota NaN rivit"
   ]
  },
  {
   "cell_type": "code",
   "execution_count": 292,
   "metadata": {},
   "outputs": [
    {
     "data": {
      "text/plain": [
       "(780, 9)"
      ]
     },
     "execution_count": 292,
     "metadata": {},
     "output_type": "execute_result"
    }
   ],
   "source": [
    "df=df.dropna(axis = 0, how = 'all')\n",
    "df.shape"
   ]
  },
  {
   "cell_type": "code",
   "execution_count": 293,
   "metadata": {},
   "outputs": [
    {
     "name": "stdout",
     "output_type": "stream",
     "text": [
      "Pregnancies                 float64\n",
      "Glucose                     float64\n",
      "BloodPressure               float64\n",
      "SkinThickness               float64\n",
      "Insulin                     float64\n",
      "BMI                         float64\n",
      "DiabetesPedigreeFunction    float64\n",
      "Age                         float64\n",
      "Outcome                     float64\n",
      "dtype: object\n"
     ]
    }
   ],
   "source": [
    "df[['Pregnancies', 'Glucose']] = df[['Pregnancies', 'Glucose']].apply(pd.to_numeric)\n",
    "print(df.dtypes)"
   ]
  },
  {
   "cell_type": "markdown",
   "metadata": {},
   "source": [
    "### Pudota identtiset rivit"
   ]
  },
  {
   "cell_type": "code",
   "execution_count": 294,
   "metadata": {},
   "outputs": [
    {
     "data": {
      "text/plain": [
       "12"
      ]
     },
     "execution_count": 294,
     "metadata": {},
     "output_type": "execute_result"
    }
   ],
   "source": [
    "df.duplicated().sum()"
   ]
  },
  {
   "cell_type": "code",
   "execution_count": 295,
   "metadata": {},
   "outputs": [
    {
     "data": {
      "text/plain": [
       "(780, 9)"
      ]
     },
     "execution_count": 295,
     "metadata": {},
     "output_type": "execute_result"
    }
   ],
   "source": [
    "df.shape"
   ]
  },
  {
   "cell_type": "code",
   "execution_count": 296,
   "metadata": {},
   "outputs": [],
   "source": [
    "df=df.drop_duplicates()"
   ]
  },
  {
   "cell_type": "code",
   "execution_count": 297,
   "metadata": {},
   "outputs": [
    {
     "data": {
      "text/plain": [
       "0"
      ]
     },
     "execution_count": 297,
     "metadata": {},
     "output_type": "execute_result"
    }
   ],
   "source": [
    "df.duplicated().sum()"
   ]
  },
  {
   "cell_type": "code",
   "execution_count": 258,
   "metadata": {},
   "outputs": [
    {
     "data": {
      "text/plain": [
       "(768, 9)"
      ]
     },
     "execution_count": 258,
     "metadata": {},
     "output_type": "execute_result"
    }
   ],
   "source": [
    "df.shape"
   ]
  },
  {
   "cell_type": "markdown",
   "metadata": {},
   "source": [
    "### Korvaa suuresti poikkeavat arvot sarakkeen mediaanilla. (Vinkki: Visualisoi sarakkeiden arvot)"
   ]
  },
  {
   "cell_type": "code",
   "execution_count": 259,
   "metadata": {},
   "outputs": [
    {
     "data": {
      "text/plain": [
       "<AxesSubplot:>"
      ]
     },
     "execution_count": 259,
     "metadata": {},
     "output_type": "execute_result"
    },
    {
     "data": {
      "image/png": "[encoded data removed]",
      "text/plain": [
       "<Figure size 720x288 with 1 Axes>"
      ]
     },
     "metadata": {
      "needs_background": "light"
     },
     "output_type": "display_data"
    }
   ],
   "source": [
    "df['Glucose'].plot.bar(figsize=(10, 4))\n"
   ]
  },
  {
   "cell_type": "code",
   "execution_count": 260,
   "metadata": {},
   "outputs": [
    {
     "data": {
      "text/plain": [
       "Pregnancies                   4.862424\n",
       "Glucose                      31.972618\n",
       "BloodPressure                19.355807\n",
       "SkinThickness                15.952218\n",
       "Insulin                     115.244002\n",
       "BMI                           7.884160\n",
       "DiabetesPedigreeFunction      0.331329\n",
       "Age                          12.791414\n",
       "Outcome                       0.476951\n",
       "dtype: float64"
      ]
     },
     "execution_count": 260,
     "metadata": {},
     "output_type": "execute_result"
    }
   ],
   "source": [
    "#Korvaa suuresti poikkeavat arvot sarakkeen mediaanilla. (Vinkki: Visualisoi sarakkeiden arvot)\n",
    "df.std()"
   ]
  },
  {
   "cell_type": "code",
   "execution_count": 261,
   "metadata": {},
   "outputs": [
    {
     "data": {
      "text/html": [
       "<div>\n",
       "<style scoped>\n",
       "    .dataframe tbody tr th:only-of-type {\n",
       "        vertical-align: middle;\n",
       "    }\n",
       "\n",
       "    .dataframe tbody tr th {\n",
       "        vertical-align: top;\n",
       "    }\n",
       "\n",
       "    .dataframe thead th {\n",
       "        text-align: right;\n",
       "    }\n",
       "</style>\n",
       "<table border=\"1\" class=\"dataframe\">\n",
       "  <thead>\n",
       "    <tr style=\"text-align: right;\">\n",
       "      <th></th>\n",
       "      <th>Pregnancies</th>\n",
       "      <th>Glucose</th>\n",
       "      <th>BloodPressure</th>\n",
       "      <th>SkinThickness</th>\n",
       "      <th>Insulin</th>\n",
       "      <th>BMI</th>\n",
       "      <th>DiabetesPedigreeFunction</th>\n",
       "      <th>Age</th>\n",
       "      <th>Outcome</th>\n",
       "    </tr>\n",
       "  </thead>\n",
       "  <tbody>\n",
       "    <tr>\n",
       "      <th>count</th>\n",
       "      <td>768.000000</td>\n",
       "      <td>768.000000</td>\n",
       "      <td>768.000000</td>\n",
       "      <td>768.000000</td>\n",
       "      <td>768.000000</td>\n",
       "      <td>768.000000</td>\n",
       "      <td>768.000000</td>\n",
       "      <td>768.000000</td>\n",
       "      <td>768.000000</td>\n",
       "    </tr>\n",
       "    <tr>\n",
       "      <th>mean</th>\n",
       "      <td>3.970052</td>\n",
       "      <td>120.894531</td>\n",
       "      <td>69.105469</td>\n",
       "      <td>20.536458</td>\n",
       "      <td>79.799479</td>\n",
       "      <td>31.992578</td>\n",
       "      <td>0.471876</td>\n",
       "      <td>33.434896</td>\n",
       "      <td>0.348958</td>\n",
       "    </tr>\n",
       "    <tr>\n",
       "      <th>std</th>\n",
       "      <td>4.862424</td>\n",
       "      <td>31.972618</td>\n",
       "      <td>19.355807</td>\n",
       "      <td>15.952218</td>\n",
       "      <td>115.244002</td>\n",
       "      <td>7.884160</td>\n",
       "      <td>0.331329</td>\n",
       "      <td>12.791414</td>\n",
       "      <td>0.476951</td>\n",
       "    </tr>\n",
       "    <tr>\n",
       "      <th>min</th>\n",
       "      <td>0.000000</td>\n",
       "      <td>0.000000</td>\n",
       "      <td>0.000000</td>\n",
       "      <td>0.000000</td>\n",
       "      <td>0.000000</td>\n",
       "      <td>0.000000</td>\n",
       "      <td>0.078000</td>\n",
       "      <td>21.000000</td>\n",
       "      <td>0.000000</td>\n",
       "    </tr>\n",
       "    <tr>\n",
       "      <th>25%</th>\n",
       "      <td>1.000000</td>\n",
       "      <td>99.000000</td>\n",
       "      <td>62.000000</td>\n",
       "      <td>0.000000</td>\n",
       "      <td>0.000000</td>\n",
       "      <td>27.300000</td>\n",
       "      <td>0.243750</td>\n",
       "      <td>24.000000</td>\n",
       "      <td>0.000000</td>\n",
       "    </tr>\n",
       "    <tr>\n",
       "      <th>50%</th>\n",
       "      <td>3.000000</td>\n",
       "      <td>117.000000</td>\n",
       "      <td>72.000000</td>\n",
       "      <td>23.000000</td>\n",
       "      <td>30.500000</td>\n",
       "      <td>32.000000</td>\n",
       "      <td>0.372500</td>\n",
       "      <td>29.000000</td>\n",
       "      <td>0.000000</td>\n",
       "    </tr>\n",
       "    <tr>\n",
       "      <th>75%</th>\n",
       "      <td>6.000000</td>\n",
       "      <td>140.250000</td>\n",
       "      <td>80.000000</td>\n",
       "      <td>32.000000</td>\n",
       "      <td>127.250000</td>\n",
       "      <td>36.600000</td>\n",
       "      <td>0.626250</td>\n",
       "      <td>41.000000</td>\n",
       "      <td>1.000000</td>\n",
       "    </tr>\n",
       "    <tr>\n",
       "      <th>max</th>\n",
       "      <td>101.000000</td>\n",
       "      <td>199.000000</td>\n",
       "      <td>122.000000</td>\n",
       "      <td>99.000000</td>\n",
       "      <td>846.000000</td>\n",
       "      <td>67.100000</td>\n",
       "      <td>2.420000</td>\n",
       "      <td>173.000000</td>\n",
       "      <td>1.000000</td>\n",
       "    </tr>\n",
       "  </tbody>\n",
       "</table>\n",
       "</div>"
      ],
      "text/plain": [
       "       Pregnancies     Glucose  BloodPressure  SkinThickness     Insulin  \\\n",
       "count   768.000000  768.000000     768.000000     768.000000  768.000000   \n",
       "mean      3.970052  120.894531      69.105469      20.536458   79.799479   \n",
       "std       4.862424   31.972618      19.355807      15.952218  115.244002   \n",
       "min       0.000000    0.000000       0.000000       0.000000    0.000000   \n",
       "25%       1.000000   99.000000      62.000000       0.000000    0.000000   \n",
       "50%       3.000000  117.000000      72.000000      23.000000   30.500000   \n",
       "75%       6.000000  140.250000      80.000000      32.000000  127.250000   \n",
       "max     101.000000  199.000000     122.000000      99.000000  846.000000   \n",
       "\n",
       "              BMI  DiabetesPedigreeFunction         Age     Outcome  \n",
       "count  768.000000                768.000000  768.000000  768.000000  \n",
       "mean    31.992578                  0.471876   33.434896    0.348958  \n",
       "std      7.884160                  0.331329   12.791414    0.476951  \n",
       "min      0.000000                  0.078000   21.000000    0.000000  \n",
       "25%     27.300000                  0.243750   24.000000    0.000000  \n",
       "50%     32.000000                  0.372500   29.000000    0.000000  \n",
       "75%     36.600000                  0.626250   41.000000    1.000000  \n",
       "max     67.100000                  2.420000  173.000000    1.000000  "
      ]
     },
     "execution_count": 261,
     "metadata": {},
     "output_type": "execute_result"
    }
   ],
   "source": [
    "df.describe()"
   ]
  },
  {
   "cell_type": "code",
   "execution_count": 262,
   "metadata": {},
   "outputs": [
    {
     "data": {
      "image/png": "[encoded data removed]",
      "text/plain": [
       "<Figure size 432x288 with 1 Axes>"
      ]
     },
     "metadata": {
      "needs_background": "light"
     },
     "output_type": "display_data"
    }
   ],
   "source": [
    "data = df['Pregnancies']\n",
    "mean = df['Pregnancies'].mean()\n",
    "std = df['Pregnancies'].std()\n",
    "min_value = min(data)\n",
    "max_value = max(data)\n",
    "\n",
    "plt.title(\"Pregnancies\")\n",
    "plt.ylim(min_value - 100, max_value + 100)\n",
    "plt.scatter(x=df.index, y=df['Pregnancies'])\n",
    "plt.hlines(y=mean, xmin=0, xmax=len(data))\n",
    "plt.show()"
   ]
  },
  {
   "cell_type": "code",
   "execution_count": 263,
   "metadata": {},
   "outputs": [
    {
     "data": {
      "text/plain": [
       "<AxesSubplot:xlabel='Pregnancies'>"
      ]
     },
     "execution_count": 263,
     "metadata": {},
     "output_type": "execute_result"
    },
    {
     "data": {
      "image/png": "[encoded data removed]",
      "text/plain": [
       "<Figure size 432x288 with 1 Axes>"
      ]
     },
     "metadata": {
      "needs_background": "light"
     },
     "output_type": "display_data"
    }
   ],
   "source": [
    "import seaborn as sns\n",
    "sns.boxplot(x=df['Pregnancies'])"
   ]
  },
  {
   "cell_type": "code",
   "execution_count": 264,
   "metadata": {},
   "outputs": [],
   "source": [
    "#Outliers, replace with median\n",
    "\n",
    "median = df['Pregnancies'].median()\n",
    "std = df['Pregnancies'].std()\n",
    "outliers = (df['Pregnancies'] - median).abs() > std\n",
    "df[outliers] = np.nan\n",
    "df['Pregnancies'].fillna(median, inplace=True)"
   ]
  },
  {
   "cell_type": "code",
   "execution_count": 265,
   "metadata": {},
   "outputs": [
    {
     "data": {
      "text/plain": [
       "<AxesSubplot:xlabel='Pregnancies'>"
      ]
     },
     "execution_count": 265,
     "metadata": {},
     "output_type": "execute_result"
    },
    {
     "data": {
      "image/png": "[encoded data removed]",
      "text/plain": [
       "<Figure size 432x288 with 1 Axes>"
      ]
     },
     "metadata": {
      "needs_background": "light"
     },
     "output_type": "display_data"
    }
   ],
   "source": [
    "sns.boxplot(x=df['Pregnancies'])"
   ]
  },
  {
   "cell_type": "code",
   "execution_count": 266,
   "metadata": {},
   "outputs": [
    {
     "data": {
      "image/png": "[encoded data removed]",
      "text/plain": [
       "<Figure size 432x288 with 1 Axes>"
      ]
     },
     "metadata": {
      "needs_background": "light"
     },
     "output_type": "display_data"
    }
   ],
   "source": [
    "data = df['Pregnancies']\n",
    "mean = df['Pregnancies'].mean()\n",
    "std = df['Pregnancies'].std()\n",
    "min_value = min(data)\n",
    "max_value = max(data)\n",
    "\n",
    "plt.title(\"Pregnancies\")\n",
    "plt.ylim(min_value - 100, max_value + 100)\n",
    "plt.scatter(x=df.index, y=df['Pregnancies'])\n",
    "plt.hlines(y=mean, xmin=0, xmax=len(data))\n",
    "plt.show()"
   ]
  },
  {
   "cell_type": "code",
   "execution_count": 267,
   "metadata": {},
   "outputs": [
    {
     "data": {
      "image/png": "[encoded data removed]",
      "text/plain": [
       "<Figure size 432x288 with 1 Axes>"
      ]
     },
     "metadata": {
      "needs_background": "light"
     },
     "output_type": "display_data"
    }
   ],
   "source": [
    "data = df['Glucose']\n",
    "mean = df['Glucose'].mean()\n",
    "std = df['Glucose'].std()\n",
    "min_value = min(data)\n",
    "max_value = max(data)\n",
    "\n",
    "plt.title(\"Glucose\")\n",
    "plt.ylim(min_value - 100, max_value + 100)\n",
    "plt.scatter(x=df.index, y=df['Glucose'])\n",
    "plt.hlines(y=mean, xmin=0, xmax=len(data))\n",
    "plt.show()"
   ]
  },
  {
   "cell_type": "code",
   "execution_count": 268,
   "metadata": {},
   "outputs": [
    {
     "data": {
      "text/plain": [
       "<AxesSubplot:xlabel='Glucose'>"
      ]
     },
     "execution_count": 268,
     "metadata": {},
     "output_type": "execute_result"
    },
    {
     "data": {
      "image/png": "[encoded data removed]",
      "text/plain": [
       "<Figure size 432x288 with 1 Axes>"
      ]
     },
     "metadata": {
      "needs_background": "light"
     },
     "output_type": "display_data"
    }
   ],
   "source": [
    "sns.boxplot(x=df['Glucose'])"
   ]
  },
  {
   "cell_type": "code",
   "execution_count": 269,
   "metadata": {},
   "outputs": [
    {
     "data": {
      "image/png": "[encoded data removed]",
      "text/plain": [
       "<Figure size 432x288 with 1 Axes>"
      ]
     },
     "metadata": {
      "needs_background": "light"
     },
     "output_type": "display_data"
    }
   ],
   "source": [
    "\n",
    "data = df['BloodPressure']\n",
    "mean = df['BloodPressure'].mean()\n",
    "std = df['BloodPressure'].std()\n",
    "min_value = min(data)\n",
    "max_value = max(data)\n",
    "\n",
    "plt.title(\"BloodPressure\")\n",
    "plt.ylim(min_value - 100, max_value + 100)\n",
    "plt.scatter(x=df.index, y=df['BloodPressure'])\n",
    "plt.hlines(y=mean, xmin=0, xmax=len(data))\n",
    "plt.show()"
   ]
  },
  {
   "cell_type": "code",
   "execution_count": 270,
   "metadata": {},
   "outputs": [
    {
     "data": {
      "image/png": "[encoded data removed]",
      "text/plain": [
       "<Figure size 432x288 with 1 Axes>"
      ]
     },
     "metadata": {
      "needs_background": "light"
     },
     "output_type": "display_data"
    }
   ],
   "source": [
    "\n",
    "data = df['SkinThickness']\n",
    "mean = df['SkinThickness'].mean()\n",
    "std = df['SkinThickness'].std()\n",
    "min_value = min(data)\n",
    "max_value = max(data)\n",
    "\n",
    "plt.title(\"SkinThickness\")\n",
    "plt.ylim(min_value - 100, max_value + 100)\n",
    "plt.scatter(x=df.index, y=df['SkinThickness'])\n",
    "plt.hlines(y=mean, xmin=0, xmax=len(data))\n",
    "plt.show()"
   ]
  },
  {
   "cell_type": "code",
   "execution_count": 271,
   "metadata": {},
   "outputs": [
    {
     "data": {
      "image/png": "[encoded data removed]",
      "text/plain": [
       "<Figure size 432x288 with 1 Axes>"
      ]
     },
     "metadata": {
      "needs_background": "light"
     },
     "output_type": "display_data"
    }
   ],
   "source": [
    "data = df['Insulin']\n",
    "mean = df['Insulin'].mean()\n",
    "std = df['Insulin'].std()\n",
    "min_value = min(data)\n",
    "max_value = max(data)\n",
    "\n",
    "plt.title(\"Insulin\")\n",
    "plt.ylim(min_value - 100, max_value + 100)\n",
    "plt.scatter(x=df.index, y=df['Insulin'])\n",
    "plt.hlines(y=mean, xmin=0, xmax=len(data))\n",
    "plt.show()"
   ]
  },
  {
   "cell_type": "code",
   "execution_count": 272,
   "metadata": {},
   "outputs": [
    {
     "data": {
      "image/png": "[encoded data removed]",
      "text/plain": [
       "<Figure size 432x288 with 1 Axes>"
      ]
     },
     "metadata": {
      "needs_background": "light"
     },
     "output_type": "display_data"
    }
   ],
   "source": [
    "data = df['BMI']\n",
    "mean = df['BMI'].mean()\n",
    "std = df['BMI'].std()\n",
    "min_value = min(data)\n",
    "max_value = max(data)\n",
    "\n",
    "plt.title(\"BMI\")\n",
    "plt.ylim(min_value - 100, max_value + 100)\n",
    "plt.scatter(x=df.index, y=df['BMI'])\n",
    "plt.hlines(y=mean, xmin=0, xmax=len(data))\n",
    "plt.show()"
   ]
  },
  {
   "cell_type": "code",
   "execution_count": 273,
   "metadata": {},
   "outputs": [
    {
     "name": "stdout",
     "output_type": "stream",
     "text": [
      "Pregnancies\n",
      "Glucose\n",
      "BloodPressure\n",
      "SkinThickness\n",
      "Insulin\n",
      "BMI\n",
      "DiabetesPedigreeFunction\n",
      "Age\n",
      "Outcome\n"
     ]
    }
   ],
   "source": [
    "for column_name, column in df.transpose().iterrows():\n",
    "    print(column_name)\n"
   ]
  },
  {
   "cell_type": "code",
   "execution_count": 274,
   "metadata": {},
   "outputs": [
    {
     "data": {
      "image/png": "[encoded data removed]",
      "text/plain": [
       "<Figure size 432x288 with 1 Axes>"
      ]
     },
     "metadata": {
      "needs_background": "light"
     },
     "output_type": "display_data"
    }
   ],
   "source": [
    "import matplotlib.pyplot as plt\n",
    "plt.figure()\n",
    "bp=df.boxplot(widths=0.1, rot=45, fontsize=10)"
   ]
  },
  {
   "cell_type": "code",
   "execution_count": 275,
   "metadata": {},
   "outputs": [
    {
     "name": "stdout",
     "output_type": "stream",
     "text": [
      "Pregnancies\n",
      "Glucose\n",
      "BloodPressure\n",
      "SkinThickness\n",
      "Insulin\n",
      "BMI\n",
      "DiabetesPedigreeFunction\n",
      "Age\n",
      "Outcome\n"
     ]
    }
   ],
   "source": [
    "for column_name, column in df.transpose().iterrows():\n",
    "    print(column_name)    \n",
    "    #Outliers, replace with median\n",
    "\n",
    "    median = df[column_name].median()\n",
    "    std = df[column_name].std()\n",
    "    outliers = (df[column_name] - median).abs() > std\n",
    "    df.loc[outliers,  column_name] = np.nan\n",
    "    df[column_name].fillna(median, inplace=True)"
   ]
  },
  {
   "cell_type": "code",
   "execution_count": 276,
   "metadata": {},
   "outputs": [
    {
     "data": {
      "image/png": "[encoded data removed]",
      "text/plain": [
       "<Figure size 432x288 with 1 Axes>"
      ]
     },
     "metadata": {
      "needs_background": "light"
     },
     "output_type": "display_data"
    }
   ],
   "source": [
    "import matplotlib.pyplot as plt\n",
    "plt.figure()\n",
    "bp=df.boxplot(widths=0.1, rot=45, fontsize=10)"
   ]
  },
  {
   "cell_type": "markdown",
   "metadata": {},
   "source": [
    "### Tutki numeraalisissa sarakkeissa nolla-arvojen määrän suhdetta kaikkiin arvoihin. Jos nolla-arvoja on 20% tai enemmän, pudota koko sarake datasetistä"
   ]
  },
  {
   "cell_type": "code",
   "execution_count": 278,
   "metadata": {},
   "outputs": [
    {
     "data": {
      "text/plain": [
       "0      1\n",
       "1      2\n",
       "2      1\n",
       "3      1\n",
       "4      1\n",
       "      ..\n",
       "805    1\n",
       "806    1\n",
       "807    1\n",
       "808    2\n",
       "809    1\n",
       "Length: 768, dtype: int64"
      ]
     },
     "execution_count": 278,
     "metadata": {},
     "output_type": "execute_result"
    }
   ],
   "source": [
    "zeros=(df == 0).sum(axis=1)\n",
    "zeros"
   ]
  },
  {
   "cell_type": "code",
   "execution_count": 279,
   "metadata": {},
   "outputs": [
    {
     "data": {
      "text/plain": [
       "['Pregnancies',\n",
       " 'Glucose',\n",
       " 'BloodPressure',\n",
       " 'SkinThickness',\n",
       " 'BMI',\n",
       " 'DiabetesPedigreeFunction',\n",
       " 'Age',\n",
       " 'Outcome']"
      ]
     },
     "execution_count": 279,
     "metadata": {},
     "output_type": "execute_result"
    }
   ],
   "source": [
    "columns=df.eq(0).mean()<0.2\n",
    "columns_to_keep=list(columns[columns].index)\n",
    "columns_to_keep.append('Outcome')\n",
    "columns_to_keep"
   ]
  },
  {
   "cell_type": "code",
   "execution_count": 280,
   "metadata": {},
   "outputs": [
    {
     "data": {
      "text/html": [
       "<div>\n",
       "<style scoped>\n",
       "    .dataframe tbody tr th:only-of-type {\n",
       "        vertical-align: middle;\n",
       "    }\n",
       "\n",
       "    .dataframe tbody tr th {\n",
       "        vertical-align: top;\n",
       "    }\n",
       "\n",
       "    .dataframe thead th {\n",
       "        text-align: right;\n",
       "    }\n",
       "</style>\n",
       "<table border=\"1\" class=\"dataframe\">\n",
       "  <thead>\n",
       "    <tr style=\"text-align: right;\">\n",
       "      <th></th>\n",
       "      <th>Pregnancies</th>\n",
       "      <th>Glucose</th>\n",
       "      <th>BloodPressure</th>\n",
       "      <th>SkinThickness</th>\n",
       "      <th>BMI</th>\n",
       "      <th>DiabetesPedigreeFunction</th>\n",
       "      <th>Age</th>\n",
       "      <th>Outcome</th>\n",
       "    </tr>\n",
       "  </thead>\n",
       "  <tbody>\n",
       "    <tr>\n",
       "      <th>0</th>\n",
       "      <td>3.0</td>\n",
       "      <td>109.0</td>\n",
       "      <td>62.0</td>\n",
       "      <td>23.0</td>\n",
       "      <td>35.8</td>\n",
       "      <td>0.514</td>\n",
       "      <td>25.0</td>\n",
       "      <td>0.0</td>\n",
       "    </tr>\n",
       "    <tr>\n",
       "      <th>1</th>\n",
       "      <td>3.0</td>\n",
       "      <td>115.0</td>\n",
       "      <td>84.0</td>\n",
       "      <td>33.0</td>\n",
       "      <td>35.5</td>\n",
       "      <td>0.355</td>\n",
       "      <td>27.0</td>\n",
       "      <td>0.0</td>\n",
       "    </tr>\n",
       "    <tr>\n",
       "      <th>2</th>\n",
       "      <td>3.0</td>\n",
       "      <td>115.0</td>\n",
       "      <td>70.0</td>\n",
       "      <td>26.0</td>\n",
       "      <td>36.5</td>\n",
       "      <td>0.314</td>\n",
       "      <td>35.0</td>\n",
       "      <td>0.0</td>\n",
       "    </tr>\n",
       "    <tr>\n",
       "      <th>3</th>\n",
       "      <td>3.0</td>\n",
       "      <td>88.0</td>\n",
       "      <td>58.0</td>\n",
       "      <td>11.0</td>\n",
       "      <td>24.8</td>\n",
       "      <td>0.267</td>\n",
       "      <td>22.0</td>\n",
       "      <td>0.0</td>\n",
       "    </tr>\n",
       "    <tr>\n",
       "      <th>4</th>\n",
       "      <td>3.0</td>\n",
       "      <td>115.0</td>\n",
       "      <td>78.0</td>\n",
       "      <td>23.0</td>\n",
       "      <td>33.2</td>\n",
       "      <td>0.422</td>\n",
       "      <td>21.0</td>\n",
       "      <td>0.0</td>\n",
       "    </tr>\n",
       "  </tbody>\n",
       "</table>\n",
       "</div>"
      ],
      "text/plain": [
       "   Pregnancies  Glucose  BloodPressure  SkinThickness   BMI  \\\n",
       "0          3.0    109.0           62.0           23.0  35.8   \n",
       "1          3.0    115.0           84.0           33.0  35.5   \n",
       "2          3.0    115.0           70.0           26.0  36.5   \n",
       "3          3.0     88.0           58.0           11.0  24.8   \n",
       "4          3.0    115.0           78.0           23.0  33.2   \n",
       "\n",
       "   DiabetesPedigreeFunction   Age  Outcome  \n",
       "0                     0.514  25.0      0.0  \n",
       "1                     0.355  27.0      0.0  \n",
       "2                     0.314  35.0      0.0  \n",
       "3                     0.267  22.0      0.0  \n",
       "4                     0.422  21.0      0.0  "
      ]
     },
     "execution_count": 280,
     "metadata": {},
     "output_type": "execute_result"
    }
   ],
   "source": [
    "df=df[columns_to_keep]\n",
    "df.head()"
   ]
  },
  {
   "cell_type": "markdown",
   "metadata": {},
   "source": [
    "### Skaalaa datasetti käyttäen standardisointia tai minimi-maksimi skaalausta."
   ]
  },
  {
   "cell_type": "code",
   "execution_count": 281,
   "metadata": {},
   "outputs": [
    {
     "name": "stdout",
     "output_type": "stream",
     "text": [
      "[[0.5        0.40322581 0.27777778 ... 0.70550162 0.22222222 0.        ]\n",
      " [0.5        0.5        0.88888889 ... 0.44822006 0.33333333 0.        ]\n",
      " [0.5        0.5        0.5        ... 0.38187702 0.77777778 0.        ]\n",
      " ...\n",
      " [0.5        0.5        0.5        ... 0.46440129 0.33333333 0.        ]\n",
      " [0.5        0.19354839 0.5        ... 0.20873786 0.33333333 0.        ]\n",
      " [0.5        0.5        0.5        ... 0.46440129 0.33333333 0.        ]]\n"
     ]
    }
   ],
   "source": [
    "#https://machinelearningmastery.com/standardscaler-and-minmaxscaler-transforms-in-python/\n",
    "scaler = MinMaxScaler()\n",
    "scaled = scaler.fit_transform(df)\n",
    "print(scaled)"
   ]
  },
  {
   "cell_type": "code",
   "execution_count": 282,
   "metadata": {},
   "outputs": [
    {
     "data": {
      "text/html": [
       "<div>\n",
       "<style scoped>\n",
       "    .dataframe tbody tr th:only-of-type {\n",
       "        vertical-align: middle;\n",
       "    }\n",
       "\n",
       "    .dataframe tbody tr th {\n",
       "        vertical-align: top;\n",
       "    }\n",
       "\n",
       "    .dataframe thead th {\n",
       "        text-align: right;\n",
       "    }\n",
       "</style>\n",
       "<table border=\"1\" class=\"dataframe\">\n",
       "  <thead>\n",
       "    <tr style=\"text-align: right;\">\n",
       "      <th></th>\n",
       "      <th>Pregnancies</th>\n",
       "      <th>Glucose</th>\n",
       "      <th>BloodPressure</th>\n",
       "      <th>SkinThickness</th>\n",
       "      <th>BMI</th>\n",
       "      <th>DiabetesPedigreeFunction</th>\n",
       "      <th>Age</th>\n",
       "      <th>Outcome</th>\n",
       "    </tr>\n",
       "  </thead>\n",
       "  <tbody>\n",
       "    <tr>\n",
       "      <th>0</th>\n",
       "      <td>0.5</td>\n",
       "      <td>0.403226</td>\n",
       "      <td>0.277778</td>\n",
       "      <td>0.500000</td>\n",
       "      <td>0.740506</td>\n",
       "      <td>0.705502</td>\n",
       "      <td>0.222222</td>\n",
       "      <td>0.0</td>\n",
       "    </tr>\n",
       "    <tr>\n",
       "      <th>1</th>\n",
       "      <td>0.5</td>\n",
       "      <td>0.500000</td>\n",
       "      <td>0.888889</td>\n",
       "      <td>0.833333</td>\n",
       "      <td>0.721519</td>\n",
       "      <td>0.448220</td>\n",
       "      <td>0.333333</td>\n",
       "      <td>0.0</td>\n",
       "    </tr>\n",
       "    <tr>\n",
       "      <th>2</th>\n",
       "      <td>0.5</td>\n",
       "      <td>0.500000</td>\n",
       "      <td>0.500000</td>\n",
       "      <td>0.600000</td>\n",
       "      <td>0.784810</td>\n",
       "      <td>0.381877</td>\n",
       "      <td>0.777778</td>\n",
       "      <td>0.0</td>\n",
       "    </tr>\n",
       "    <tr>\n",
       "      <th>3</th>\n",
       "      <td>0.5</td>\n",
       "      <td>0.064516</td>\n",
       "      <td>0.166667</td>\n",
       "      <td>0.100000</td>\n",
       "      <td>0.044304</td>\n",
       "      <td>0.305825</td>\n",
       "      <td>0.055556</td>\n",
       "      <td>0.0</td>\n",
       "    </tr>\n",
       "    <tr>\n",
       "      <th>4</th>\n",
       "      <td>0.5</td>\n",
       "      <td>0.500000</td>\n",
       "      <td>0.722222</td>\n",
       "      <td>0.500000</td>\n",
       "      <td>0.575949</td>\n",
       "      <td>0.556634</td>\n",
       "      <td>0.000000</td>\n",
       "      <td>0.0</td>\n",
       "    </tr>\n",
       "  </tbody>\n",
       "</table>\n",
       "</div>"
      ],
      "text/plain": [
       "   Pregnancies   Glucose  BloodPressure  SkinThickness       BMI  \\\n",
       "0          0.5  0.403226       0.277778       0.500000  0.740506   \n",
       "1          0.5  0.500000       0.888889       0.833333  0.721519   \n",
       "2          0.5  0.500000       0.500000       0.600000  0.784810   \n",
       "3          0.5  0.064516       0.166667       0.100000  0.044304   \n",
       "4          0.5  0.500000       0.722222       0.500000  0.575949   \n",
       "\n",
       "   DiabetesPedigreeFunction       Age  Outcome  \n",
       "0                  0.705502  0.222222      0.0  \n",
       "1                  0.448220  0.333333      0.0  \n",
       "2                  0.381877  0.777778      0.0  \n",
       "3                  0.305825  0.055556      0.0  \n",
       "4                  0.556634  0.000000      0.0  "
      ]
     },
     "execution_count": 282,
     "metadata": {},
     "output_type": "execute_result"
    }
   ],
   "source": [
    "df_scaled=pd.DataFrame(scaled)\n",
    "df_scaled.columns=df.columns\n",
    "df_scaled.head()"
   ]
  },
  {
   "cell_type": "markdown",
   "metadata": {},
   "source": [
    "### Muuta datasetti valvotun oppimisen muotoon, eli erottele data ominaisuuksiin ja ennustettaviin arvoihin."
   ]
  },
  {
   "cell_type": "code",
   "execution_count": 283,
   "metadata": {},
   "outputs": [],
   "source": [
    "X=df_scaled.drop(\"Outcome\", axis=1)\n",
    "y=df_scaled[\"Outcome\"]"
   ]
  },
  {
   "cell_type": "markdown",
   "metadata": {},
   "source": [
    "### Jaa datasetti koulutus- ja testidatasettiin, niin että koulutusdatasetissä on 80% datasetistä ja testidatasetissä 20%"
   ]
  },
  {
   "cell_type": "code",
   "execution_count": 284,
   "metadata": {},
   "outputs": [],
   "source": [
    "from sklearn.model_selection import train_test_split\n",
    "train_X, test_X, y_train, y_test = train_test_split(X, y, test_size=0.20, random_state=1900)"
   ]
  },
  {
   "cell_type": "markdown",
   "metadata": {},
   "source": [
    "### Tehtävän vastaukset"
   ]
  },
  {
   "cell_type": "code",
   "execution_count": 285,
   "metadata": {
    "tags": [
     "answers_1_1"
    ]
   },
   "outputs": [
    {
     "name": "stdout",
     "output_type": "stream",
     "text": [
      "Amount of NaN rows in dataframe:  0\n",
      "Amount of duplicate rows in dataframe:  1\n",
      "Training dataset length:  614\n",
      "Test dataset length:  154\n"
     ]
    }
   ],
   "source": [
    "# Tehtävän vastaukset. Huom! Älä muokkaa tätä solua, vaan aja se, kun olet suorittanut tehtävän. Sijoita muokkaamasi dataframe df - muuttujaan.\n",
    "print(\"Amount of NaN rows in dataframe: \",df.isna().any().sum())\n",
    "print(\"Amount of duplicate rows in dataframe: \",df.duplicated().any().sum())\n",
    "print(\"Training dataset length: \", len(train_X))\n",
    "print(\"Test dataset length: \",len(test_X))"
   ]
  },
  {
   "cell_type": "markdown",
   "metadata": {},
   "source": [
    "# Tehtävä 2.\n",
    "### Aihe: Neuroverkko käsin\n",
    "3,3 pistettä\n",
    "\n",
    "Alla on määritelty koordinaattipareja, joiden avulla on piirretty kahta eri värisiä pisteitä. Tavoitteena on luoda neuroverkko, joka jakaa kuvaajan siniseen ja punaiseen alueeseen. Kun kuvaajaan piirretään uusi piste ja pisteen koordinaatit syötetään neuroverkolle, neuroverkon ennuste kertoo sen, minkä värinen piste on.\n",
    "\n",
    "Katso materiaaleista, miten luot neuroverkon käsin käyttäen NumPy - kirjaston taulukoita ja funktioita. \n",
    "\n",
    "1. Luo koulutusdatasetti koordinaattipisteet ja värit ominaisuuksiin ja ennustettaviin arvoihin.\n",
    "2. Luo neuroverkkoluokka, jonka rakenne on:\n",
    "    * Sisääntulokerros, jossa on kaksi neuronia\n",
    "    * Yksi piiloitettua kerros, jossa on 6 neuronia ja aktivaatiofunktiona sigmoid.\n",
    "    * Ulostulokerros, jossa yksi neuroni ja aktivaatiofunktiona sigmoid.\n",
    "3. Luo funktiot, joiden avulla lasket neuroverkon ennustuksen syöttödatalle (forwardpropagation) ja päivität yhteyksien painoarvoja virheen avulla (backpropagation)\n",
    "4. Syötä koulutusdatasetti 1000 kertaa neuroverkon läpi.\n",
    "    * Syötä jokaisella kierroksella koulutusdata rivi riviltä neuroverkon läpi ja päivitä painoarvot.\n",
    "    * Tallenna kierroksen aikana virheet jokaiselle syötölle, ja lisää kierroksen virheistä keskiarvo listaan. Piirrä kuvaaja siitä, kuinka virhe muuttuu koulutuksen aikana\n",
    "5. Ennusta neuroverkolla, minkä värinen on piste: [0.1,-5.8]\n",
    "6. Aja \"Tehtävän vastaukset\" solu\n",
    "\n",
    "Vinkkejä:\n",
    "* Piirrä neuroverkon rakenne piirrustusohjelmalla tai paperille, näät silloin yhteyksien määrän jokaisessa kerroksessa.\n",
    "* Käytä olemassa olevaa ratkaisua materiaaleista, lisää siihen tarvittavat laskut jokaiselle kerrokselle."
   ]
  },
  {
   "cell_type": "code",
   "execution_count": 162,
   "metadata": {},
   "outputs": [
    {
     "data": {
      "text/plain": [
       "<matplotlib.collections.PathCollection at 0x1a6e1910160>"
      ]
     },
     "execution_count": 162,
     "metadata": {},
     "output_type": "execute_result"
    },
    {
     "data": {
      "image/png": "[encoded data removed]",
      "text/plain": [
       "<Figure size 432x288 with 1 Axes>"
      ]
     },
     "metadata": {
      "needs_background": "light"
     },
     "output_type": "display_data"
    }
   ],
   "source": [
    "import matplotlib.pyplot as plt\n",
    "from sklearn.datasets import make_blobs\n",
    "\n",
    "dots, labels = make_blobs(n_samples=90,centers=2,cluster_std = 3,center_box=(-8,8),random_state=131)\n",
    "colors = ['red' if label == 0 else 'blue' for label in labels]\n",
    "plt.scatter(dots[:,0],dots[:,1],color=colors)"
   ]
  },
  {
   "cell_type": "code",
   "execution_count": 163,
   "metadata": {},
   "outputs": [],
   "source": [
    "# Tehtävän toteutus jatkuu tästä"
   ]
  },
  {
   "cell_type": "markdown",
   "metadata": {},
   "source": [
    "### Luo koulutusdatasetti koordinaattipisteet ja värit ominaisuuksiin ja ennustettaviin arvoihin"
   ]
  },
  {
   "cell_type": "code",
   "execution_count": 164,
   "metadata": {},
   "outputs": [
    {
     "data": {
      "text/plain": [
       "(array([[ 4.84419426,  6.8891582 ],\n",
       "        [-6.46133398, -1.10977675],\n",
       "        [-3.41936546,  7.14766803],\n",
       "        [ 5.9478309 ,  6.40045504],\n",
       "        [ 1.6514746 ,  2.71258261],\n",
       "        [ 0.71964562,  4.31582793],\n",
       "        [ 2.23173367,  4.13636623],\n",
       "        [ 4.12869608,  8.37590582],\n",
       "        [ 4.02440274,  4.98382082],\n",
       "        [ 1.44897384,  8.98750828],\n",
       "        [ 3.70210262,  2.91422547],\n",
       "        [ 2.95013586,  8.49733403],\n",
       "        [ 0.19440182, 11.95221745],\n",
       "        [-7.78951416,  5.5153914 ],\n",
       "        [ 0.87699138,  0.75743262],\n",
       "        [-2.54747773,  5.45314666],\n",
       "        [-0.10731133,  2.30344586],\n",
       "        [ 1.05543642, 10.3929334 ],\n",
       "        [ 1.1664487 ,  8.13908243],\n",
       "        [-0.16627694,  7.77438137],\n",
       "        [-4.11015731,  1.63022389],\n",
       "        [-0.1851277 , -0.04993843],\n",
       "        [-0.68998297, -0.96241078],\n",
       "        [ 1.56330522,  9.25788987],\n",
       "        [-5.6071827 ,  5.62723552],\n",
       "        [ 2.48091349,  7.64849888],\n",
       "        [ 2.86983319,  8.48581335],\n",
       "        [-2.21873182,  7.91005057],\n",
       "        [-0.50150828, 10.03284414],\n",
       "        [ 0.71607442,  6.18904651],\n",
       "        [-1.14191854,  6.37354144],\n",
       "        [-5.30812131,  5.77014336],\n",
       "        [-1.81878009,  6.25443302],\n",
       "        [ 1.76965168, -1.10164075],\n",
       "        [-0.87697671,  5.41643668],\n",
       "        [ 4.10646182,  3.19454068],\n",
       "        [-0.66315596,  3.42273333],\n",
       "        [-4.46563587,  2.60027028],\n",
       "        [ 4.51440215,  9.62403852],\n",
       "        [-0.85170121, -0.03897749],\n",
       "        [ 0.81610454,  1.83643315],\n",
       "        [-2.48272747,  0.1810142 ],\n",
       "        [-4.56876786,  2.73162041],\n",
       "        [-1.73814744,  5.81451778],\n",
       "        [ 0.078693  ,  6.05595291],\n",
       "        [-5.80019586,  6.32996797],\n",
       "        [ 0.21362922, 10.38552797],\n",
       "        [ 9.67838602,  8.5526032 ],\n",
       "        [ 0.5910187 ,  4.95007281],\n",
       "        [ 7.09650161,  8.81190048],\n",
       "        [ 1.13760505,  3.23194815],\n",
       "        [ 2.71633481, 10.7387293 ],\n",
       "        [-0.76836409, -3.80453222],\n",
       "        [-1.00452651, -1.92028597],\n",
       "        [-0.57695217, -2.81214015],\n",
       "        [ 1.06661383,  1.03127133],\n",
       "        [ 1.9323765 ,  4.3473157 ],\n",
       "        [ 1.7108615 ,  7.05950174],\n",
       "        [-4.7719195 ,  0.68650334],\n",
       "        [ 0.15840615,  8.31471057],\n",
       "        [ 2.57612239, -0.17838812],\n",
       "        [-0.90132058, -1.08323246],\n",
       "        [ 0.02450191,  4.64969664],\n",
       "        [-2.73399918,  2.91727142],\n",
       "        [ 5.50396724,  0.89752833],\n",
       "        [ 0.59341348,  2.52171903],\n",
       "        [-2.92182916,  7.42253799],\n",
       "        [ 7.41516396,  3.29762631],\n",
       "        [-1.06800814,  9.3830408 ],\n",
       "        [ 8.93652119,  6.90526299],\n",
       "        [ 3.0504157 ,  9.98320009],\n",
       "        [-2.13704669,  6.25734941],\n",
       "        [-3.13355389, -0.05708886],\n",
       "        [-1.15459321,  5.63272073],\n",
       "        [-1.85706168,  4.36747572],\n",
       "        [-6.28699808,  2.41132246],\n",
       "        [-0.32046914,  1.20664627],\n",
       "        [-1.15335851,  8.30821553],\n",
       "        [ 2.10767527,  8.86002082],\n",
       "        [ 5.2278893 ,  4.48176734],\n",
       "        [-2.03883381,  7.96125812],\n",
       "        [-2.40351178, 12.92133178],\n",
       "        [ 5.6129521 ,  2.64075289],\n",
       "        [ 6.13773943,  8.10969387],\n",
       "        [ 7.1337806 ,  3.6149413 ],\n",
       "        [-5.66977534, -1.8513618 ],\n",
       "        [ 2.50578565, 13.54975912],\n",
       "        [ 2.27248056,  2.877586  ],\n",
       "        [ 0.35618677, 11.3719106 ],\n",
       "        [-0.1699352 ,  9.65273833]]),\n",
       " array([0, 1, 1, 0, 1, 1, 1, 0, 0, 0, 0, 1, 0, 1, 1, 1, 1, 0, 0, 0, 1, 1,\n",
       "        1, 0, 1, 0, 0, 0, 0, 1, 0, 1, 0, 1, 0, 0, 1, 1, 0, 1, 1, 1, 1, 1,\n",
       "        0, 0, 0, 0, 0, 0, 1, 0, 1, 1, 1, 1, 1, 1, 1, 0, 0, 1, 0, 1, 1, 1,\n",
       "        1, 0, 0, 0, 0, 1, 1, 1, 1, 1, 1, 0, 0, 0, 1, 0, 0, 0, 0, 1, 0, 0,\n",
       "        0, 0]))"
      ]
     },
     "execution_count": 164,
     "metadata": {},
     "output_type": "execute_result"
    }
   ],
   "source": [
    "make_blobs(n_samples=90,centers=2,cluster_std = 3,center_box=(-8,8),random_state=131)"
   ]
  },
  {
   "cell_type": "code",
   "execution_count": 165,
   "metadata": {},
   "outputs": [
    {
     "data": {
      "text/plain": [
       "array([[ 4.84419426,  6.8891582 ],\n",
       "       [-6.46133398, -1.10977675],\n",
       "       [-3.41936546,  7.14766803],\n",
       "       [ 5.9478309 ,  6.40045504],\n",
       "       [ 1.6514746 ,  2.71258261],\n",
       "       [ 0.71964562,  4.31582793],\n",
       "       [ 2.23173367,  4.13636623],\n",
       "       [ 4.12869608,  8.37590582],\n",
       "       [ 4.02440274,  4.98382082],\n",
       "       [ 1.44897384,  8.98750828],\n",
       "       [ 3.70210262,  2.91422547],\n",
       "       [ 2.95013586,  8.49733403],\n",
       "       [ 0.19440182, 11.95221745],\n",
       "       [-7.78951416,  5.5153914 ],\n",
       "       [ 0.87699138,  0.75743262],\n",
       "       [-2.54747773,  5.45314666],\n",
       "       [-0.10731133,  2.30344586],\n",
       "       [ 1.05543642, 10.3929334 ],\n",
       "       [ 1.1664487 ,  8.13908243],\n",
       "       [-0.16627694,  7.77438137],\n",
       "       [-4.11015731,  1.63022389],\n",
       "       [-0.1851277 , -0.04993843],\n",
       "       [-0.68998297, -0.96241078],\n",
       "       [ 1.56330522,  9.25788987],\n",
       "       [-5.6071827 ,  5.62723552],\n",
       "       [ 2.48091349,  7.64849888],\n",
       "       [ 2.86983319,  8.48581335],\n",
       "       [-2.21873182,  7.91005057],\n",
       "       [-0.50150828, 10.03284414],\n",
       "       [ 0.71607442,  6.18904651],\n",
       "       [-1.14191854,  6.37354144],\n",
       "       [-5.30812131,  5.77014336],\n",
       "       [-1.81878009,  6.25443302],\n",
       "       [ 1.76965168, -1.10164075],\n",
       "       [-0.87697671,  5.41643668],\n",
       "       [ 4.10646182,  3.19454068],\n",
       "       [-0.66315596,  3.42273333],\n",
       "       [-4.46563587,  2.60027028],\n",
       "       [ 4.51440215,  9.62403852],\n",
       "       [-0.85170121, -0.03897749],\n",
       "       [ 0.81610454,  1.83643315],\n",
       "       [-2.48272747,  0.1810142 ],\n",
       "       [-4.56876786,  2.73162041],\n",
       "       [-1.73814744,  5.81451778],\n",
       "       [ 0.078693  ,  6.05595291],\n",
       "       [-5.80019586,  6.32996797],\n",
       "       [ 0.21362922, 10.38552797],\n",
       "       [ 9.67838602,  8.5526032 ],\n",
       "       [ 0.5910187 ,  4.95007281],\n",
       "       [ 7.09650161,  8.81190048],\n",
       "       [ 1.13760505,  3.23194815],\n",
       "       [ 2.71633481, 10.7387293 ],\n",
       "       [-0.76836409, -3.80453222],\n",
       "       [-1.00452651, -1.92028597],\n",
       "       [-0.57695217, -2.81214015],\n",
       "       [ 1.06661383,  1.03127133],\n",
       "       [ 1.9323765 ,  4.3473157 ],\n",
       "       [ 1.7108615 ,  7.05950174],\n",
       "       [-4.7719195 ,  0.68650334],\n",
       "       [ 0.15840615,  8.31471057],\n",
       "       [ 2.57612239, -0.17838812],\n",
       "       [-0.90132058, -1.08323246],\n",
       "       [ 0.02450191,  4.64969664],\n",
       "       [-2.73399918,  2.91727142],\n",
       "       [ 5.50396724,  0.89752833],\n",
       "       [ 0.59341348,  2.52171903],\n",
       "       [-2.92182916,  7.42253799],\n",
       "       [ 7.41516396,  3.29762631],\n",
       "       [-1.06800814,  9.3830408 ],\n",
       "       [ 8.93652119,  6.90526299],\n",
       "       [ 3.0504157 ,  9.98320009],\n",
       "       [-2.13704669,  6.25734941],\n",
       "       [-3.13355389, -0.05708886],\n",
       "       [-1.15459321,  5.63272073],\n",
       "       [-1.85706168,  4.36747572],\n",
       "       [-6.28699808,  2.41132246],\n",
       "       [-0.32046914,  1.20664627],\n",
       "       [-1.15335851,  8.30821553],\n",
       "       [ 2.10767527,  8.86002082],\n",
       "       [ 5.2278893 ,  4.48176734],\n",
       "       [-2.03883381,  7.96125812],\n",
       "       [-2.40351178, 12.92133178],\n",
       "       [ 5.6129521 ,  2.64075289],\n",
       "       [ 6.13773943,  8.10969387],\n",
       "       [ 7.1337806 ,  3.6149413 ],\n",
       "       [-5.66977534, -1.8513618 ],\n",
       "       [ 2.50578565, 13.54975912],\n",
       "       [ 2.27248056,  2.877586  ],\n",
       "       [ 0.35618677, 11.3719106 ],\n",
       "       [-0.1699352 ,  9.65273833]])"
      ]
     },
     "execution_count": 165,
     "metadata": {},
     "output_type": "execute_result"
    }
   ],
   "source": [
    "dots"
   ]
  },
  {
   "cell_type": "code",
   "execution_count": 166,
   "metadata": {},
   "outputs": [
    {
     "data": {
      "text/plain": [
       "array([0, 1, 1, 0, 1, 1, 1, 0, 0, 0, 0, 1, 0, 1, 1, 1, 1, 0, 0, 0, 1, 1,\n",
       "       1, 0, 1, 0, 0, 0, 0, 1, 0, 1, 0, 1, 0, 0, 1, 1, 0, 1, 1, 1, 1, 1,\n",
       "       0, 0, 0, 0, 0, 0, 1, 0, 1, 1, 1, 1, 1, 1, 1, 0, 0, 1, 0, 1, 1, 1,\n",
       "       1, 0, 0, 0, 0, 1, 1, 1, 1, 1, 1, 0, 0, 0, 1, 0, 0, 0, 0, 1, 0, 0,\n",
       "       0, 0])"
      ]
     },
     "execution_count": 166,
     "metadata": {},
     "output_type": "execute_result"
    }
   ],
   "source": [
    "labels"
   ]
  },
  {
   "cell_type": "code",
   "execution_count": 167,
   "metadata": {},
   "outputs": [],
   "source": [
    "from sklearn.model_selection import train_test_split\n",
    "train_X, test_X, y_train, y_test = train_test_split(dots, labels, test_size=0.20, random_state=1900)"
   ]
  },
  {
   "cell_type": "markdown",
   "metadata": {},
   "source": [
    "### Luo neuroverkkoluokka, jonka rakenne on:\n",
    "- Sisääntulokerros, jossa on kaksi neuronia\n",
    "- Yksi piiloitettua kerros, jossa on 6 neuronia ja aktivaatiofunktiona sigmoid.\n",
    "- Ulostulokerros, jossa yksi neuroni ja aktivaatiofunktiona sigmoid."
   ]
  },
  {
   "cell_type": "code",
   "execution_count": 168,
   "metadata": {},
   "outputs": [],
   "source": [
    "def __init__(self):\n",
    "        self.weights1 = np.random.rand(2,6)\n",
    "        self.weights2 = np.random.rand(6,1)"
   ]
  },
  {
   "cell_type": "markdown",
   "metadata": {},
   "source": [
    "### Luo funktiot, joiden avulla lasket neuroverkon ennustuksen syöttödatalle (forwardpropagation) ja päivität yhteyksien painoarvoja virheen avulla (backpropagation)"
   ]
  },
  {
   "cell_type": "code",
   "execution_count": 169,
   "metadata": {},
   "outputs": [],
   "source": [
    "class NeuralNetwork:\n",
    "    def __init__(self):\n",
    "        # Alustetaan painoarvot satunaisesti\n",
    "        self.weights1 = np.random.rand(2,6)\n",
    "        self.weights2 = np.random.rand(6,1)        \n",
    "\n",
    "    # Virhefunktio\n",
    "    def loss_function(self,true,prediction):\n",
    "        return 0.5 * (true - prediction)**2    \n",
    "\n",
    "    # Virhefunktion derivaatta\n",
    "    def loss_function_derivative(self,true,prediction):\n",
    "        return true - prediction    \n",
    "\n",
    "    # Sigmoid funktio\n",
    "    def sigmoid(self,x):\n",
    "        return 1 / (1 + np.exp(-x))    \n",
    "\n",
    "    # Sigmoidin derivaatta\n",
    "    def sigmoid_derivative(self,x):\n",
    "        return x * (1 - x)    \n",
    "\n",
    "    # Syöte neuroverkon kerrosten läpi\n",
    "    def forwardpropagation(self,X,y):\n",
    "        # Määritetään ominaisuudet ja halutut arvot NumPy - taulukoiksi sekä lasketaan kerrosten ulostulot\n",
    "        self.X = np.array([X])\n",
    "        self.y = np.array([y])\n",
    "        self.layer1 = self.sigmoid(np.dot(self.X, self.weights1))\n",
    "        self.output = self.sigmoid(np.dot(self.layer1, self.weights2))\n",
    "        self.loss = self.loss_function(self.y, self.output)    \n",
    "\n",
    "    # Painoarvojen päivitys backpropagation - menetelmällä\n",
    "    def backpropagation(self, learning_rate):\n",
    "        output_error = self.loss_function_derivative(self.y, self.output)\n",
    "        output_delta = output_error * self.sigmoid_derivative(self.output)\n",
    "        weights2_adjustment = np.dot(self.layer1.T, output_delta)\n",
    "\n",
    "        layer1_error = np.dot(output_delta, self.weights2.T)\n",
    "        layer1_delta = layer1_error * self.sigmoid_derivative(self.layer1)        \n",
    "\n",
    "        weights1_adjustment = np.dot(self.X.T, layer1_delta)        \n",
    "\n",
    "        self.weights2 += learning_rate * weights2_adjustment\n",
    "        self.weights1 += learning_rate * weights1_adjustment        "
   ]
  },
  {
   "cell_type": "code",
   "execution_count": 170,
   "metadata": {},
   "outputs": [
    {
     "name": "stdout",
     "output_type": "stream",
     "text": [
      "Neuroverkon ennuste ensimmäiselle syötteelle: [0.94887921] Neuroverkon virhe: [0.45018588]\n"
     ]
    }
   ],
   "source": [
    "neural_network = NeuralNetwork()\n",
    "neural_network.forwardpropagation(train_X[0],y_train[0])\n",
    "print(f\"Neuroverkon ennuste ensimmäiselle syötteelle: {neural_network.output[0]} Neuroverkon virhe: {neural_network.loss[0]}\")\n",
    "neural_network.backpropagation(learning_rate = 0.01)"
   ]
  },
  {
   "cell_type": "markdown",
   "metadata": {},
   "source": [
    "### Syötä koulutusdatasetti 1000 kertaa neuroverkon läpi.\n",
    "- Syötä jokaisella kierroksella koulutusdata rivi riviltä neuroverkon läpi ja päivitä painoarvot.\n",
    "- Tallenna kierroksen aikana virheet jokaiselle syötölle, ja lisää kierroksen virheistä keskiarvo listaan. \n",
    "- Piirrä kuvaaja siitä, kuinka virhe muuttuu koulutuksen aikana"
   ]
  },
  {
   "cell_type": "code",
   "execution_count": 171,
   "metadata": {},
   "outputs": [
    {
     "name": "stdout",
     "output_type": "stream",
     "text": [
      "Epoch 100 Loss: [0.06120553]\n",
      "Epoch 200 Loss: [0.04131344]\n",
      "Epoch 300 Loss: [0.03758938]\n",
      "Epoch 400 Loss: [0.0360265]\n",
      "Epoch 500 Loss: [0.03430298]\n",
      "Epoch 600 Loss: [0.0320175]\n",
      "Epoch 700 Loss: [0.02963937]\n",
      "Epoch 800 Loss: [0.02746902]\n",
      "Epoch 900 Loss: [0.02555411]\n",
      "Epoch 1000 Loss: [0.02387133]\n"
     ]
    }
   ],
   "source": [
    "#neural_network = NeuralNetwork()\n",
    "epoch_losses = []\n",
    "epochs = 1000\n",
    "for epoch in range(1,epochs+1):\n",
    "    batch_losses = [] # Lista, johon lisätään yhden kierroksen virhearvot\n",
    "    for X,y in zip(train_X,y_train):\n",
    "        neural_network.forwardpropagation(X,y)\n",
    "        neural_network.backpropagation(learning_rate = 0.01)\n",
    "        batch_losses.append(neural_network.loss[0])\n",
    "    epoch_losses.append(np.average(batch_losses)) # Otetaan keskiarvo yhden kierroksen virhearvoista\n",
    "    if epoch % 100 == 0:\n",
    "        print(f\"Epoch {epoch} Loss: {neural_network.loss[0]}\")"
   ]
  },
  {
   "cell_type": "code",
   "execution_count": 172,
   "metadata": {},
   "outputs": [
    {
     "data": {
      "image/png": "[encoded data removed]",
      "text/plain": [
       "<Figure size 432x288 with 1 Axes>"
      ]
     },
     "metadata": {
      "needs_background": "light"
     },
     "output_type": "display_data"
    }
   ],
   "source": [
    "fig, ax = plt.subplots()\n",
    "ax.plot(epoch_losses)\n",
    "ax.set_title(\"Neural Network Loss\")\n",
    "ax.set_xlabel('Epochs')\n",
    "ax.set_ylabel('Loss')\n",
    "plt.show()"
   ]
  },
  {
   "cell_type": "markdown",
   "metadata": {},
   "source": [
    "### Ennusta neuroverkolla, minkä värinen on piste: [0.1,-5.8]"
   ]
  },
  {
   "cell_type": "code",
   "execution_count": 173,
   "metadata": {},
   "outputs": [
    {
     "data": {
      "text/plain": [
       "array([[0.99176411]])"
      ]
     },
     "execution_count": 173,
     "metadata": {},
     "output_type": "execute_result"
    }
   ],
   "source": [
    "test_X = np.array([[0.1, -5.8]])\n",
    "\n",
    "layer1_output = neural_network.sigmoid(np.dot(test_X, neural_network.weights1))\n",
    "output = neural_network.sigmoid(np.dot(layer1_output, neural_network.weights2))\n",
    "output"
   ]
  },
  {
   "cell_type": "markdown",
   "metadata": {},
   "source": [
    "### Aja \"Tehtävän vastaukset\" solu"
   ]
  },
  {
   "cell_type": "code",
   "execution_count": 174,
   "metadata": {
    "tags": [
     "answers_1_2"
    ]
   },
   "outputs": [
    {
     "name": "stdout",
     "output_type": "stream",
     "text": [
      "[[0.99176411]]\n"
     ]
    }
   ],
   "source": [
    "# Tehtävän vastaukset. Huom! Älä muokkaa tätä solua, vaan aja se, kun olet suorittanut tehtävän. Sijoita output - muuttujaan neuroverkon ennuste syötölle [0.1,-5.8]\n",
    "print(output)"
   ]
  },
  {
   "cell_type": "markdown",
   "metadata": {},
   "source": [
    "# Tehtävä 3\n",
    "### Aihe: Yksinkertainen neuroverkko Keras Sequential API:lla\n",
    "3,3 pistettä\n",
    "\n",
    "Koulutetaan yksinkertainen neuroverkko Kerassilla käyttäen tehtävässä 1 puhdistettua diabetes datasettiä. (Jos tehtävän teko ei onnistunut, lataa datasetti Kagglesta)\n",
    "\n",
    "Tehtävästä on löydyttävä vaiheet:\n",
    "1. Luo neuroverkko (käytä tf.keras.Sequential() funktiota)\n",
    "2. Määritä häviöfunktio ja optimisaattori (käytä model.compile() funktiota)\n",
    "3. Kouluta neuroverkko (käytä model.fit() funktiota)\n",
    "4. Vertaa neuroverkon ennustuksia testidataan (käytä model.evaluate() funktiota)\n",
    "5. Aja \"Tehtävän vastaukset\" solu"
   ]
  },
  {
   "cell_type": "code",
   "execution_count": 298,
   "metadata": {},
   "outputs": [],
   "source": [
    "# Tehtävän toteutus"
   ]
  },
  {
   "cell_type": "markdown",
   "metadata": {},
   "source": [
    "### Luo neuroverkko (käytä tf.keras.Sequential() funktiota)"
   ]
  },
  {
   "cell_type": "code",
   "execution_count": 299,
   "metadata": {},
   "outputs": [],
   "source": [
    "model = tf.keras.Sequential([\n",
    "    tf.keras.layers.Dense(4,activation='relu'),\n",
    "    tf.keras.layers.Dense(8,activation='relu'), # lisätään toiseen piiloitettuun kerrokseen relu - aktivaatiofunktio.\n",
    "    tf.keras.layers.Dense(3,activation='softmax') # ulostulokerros, jossa softmax - aktivaatiofunktio\n",
    "])"
   ]
  },
  {
   "cell_type": "markdown",
   "metadata": {},
   "source": [
    "### Määritä häviöfunktio ja optimisaattori (käytä model.compile() funktiota)"
   ]
  },
  {
   "cell_type": "code",
   "execution_count": 300,
   "metadata": {},
   "outputs": [],
   "source": [
    "model.compile(optimizer='adam',\n",
    "              loss='sparse_categorical_crossentropy',\n",
    "              metrics=['accuracy'])"
   ]
  },
  {
   "cell_type": "markdown",
   "metadata": {},
   "source": [
    "### Kouluta neuroverkko (käytä model.fit() funktiota)"
   ]
  },
  {
   "cell_type": "code",
   "execution_count": 301,
   "metadata": {},
   "outputs": [
    {
     "name": "stdout",
     "output_type": "stream",
     "text": [
      "Epoch 1/5\n",
      "20/20 [==============================] - 0s 1ms/step - loss: 0.7353 - accuracy: 1.0000\n",
      "Epoch 2/5\n",
      "20/20 [==============================] - 0s 1ms/step - loss: 0.5529 - accuracy: 1.0000\n",
      "Epoch 3/5\n",
      "20/20 [==============================] - 0s 1ms/step - loss: 0.3941 - accuracy: 1.0000\n",
      "Epoch 4/5\n",
      "20/20 [==============================] - 0s 1ms/step - loss: 0.2716 - accuracy: 1.0000\n",
      "Epoch 5/5\n",
      "20/20 [==============================] - 0s 1ms/step - loss: 0.1873 - accuracy: 1.0000\n"
     ]
    },
    {
     "data": {
      "text/plain": [
       "<tensorflow.python.keras.callbacks.History at 0x1a6e5d33438>"
      ]
     },
     "execution_count": 301,
     "metadata": {},
     "output_type": "execute_result"
    }
   ],
   "source": [
    "model.fit(train_X, y_train, epochs=5)"
   ]
  },
  {
   "cell_type": "markdown",
   "metadata": {},
   "source": [
    "### Vertaa neuroverkon ennustuksia testidataan (käytä model.evaluate() funktiota)"
   ]
  },
  {
   "cell_type": "code",
   "execution_count": 302,
   "metadata": {},
   "outputs": [
    {
     "name": "stdout",
     "output_type": "stream",
     "text": [
      "5/5 - 0s - loss: 0.1527 - accuracy: 1.0000\n"
     ]
    }
   ],
   "source": [
    "results=model.evaluate(test_X, y_test, verbose=2)"
   ]
  },
  {
   "cell_type": "code",
   "execution_count": 303,
   "metadata": {
    "tags": [
     "answers_1_3"
    ]
   },
   "outputs": [
    {
     "name": "stdout",
     "output_type": "stream",
     "text": [
      "Test Loss:0.1527077555656433 Test Accuracy:100.0%\n"
     ]
    }
   ],
   "source": [
    "# Tehtävän vastaukset. Huom! Älä muokkaa tätä solua, vaan aja se, kun olet suorittanut tehtävän. Sijoita results - muuttujaan funktion model.evaluate() tulos.\n",
    "# Muista määrittää model.compile() - funktioon seurattavaksi suureeksi metrics=['accuracy'], jotta näät, kuinka suuri osa neuroverkon ennustuksista on oikein.\n",
    "print(f\"Test Loss:{results[0]} Test Accuracy:{results[1]*100}%\")"
   ]
  },
  {
   "cell_type": "code",
   "execution_count": null,
   "metadata": {},
   "outputs": [],
   "source": []
  }
 ],
 "metadata": {
  "kernelspec": {
   "display_name": "Python 3",
   "language": "python",
   "name": "python3"
  },
  "language_info": {
   "codemirror_mode": {
    "name": "ipython",
    "version": 3
   },
   "file_extension": ".py",
   "mimetype": "text/x-python",
   "name": "python",
   "nbconvert_exporter": "python",
   "pygments_lexer": "ipython3",
   "version": "3.7.3"
  }
 },
 "nbformat": 4,
 "nbformat_minor": 4
}
